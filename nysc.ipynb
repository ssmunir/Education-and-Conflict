{
 "cells": [
  {
   "cell_type": "code",
   "execution_count": 1,
   "metadata": {},
   "outputs": [],
   "source": [
    "#Directory \n",
    "\n",
    "import os \n",
    "os.chdir(r\"C:\\Users\\auuser\\Documents\\Munir\\Education and Conflict\")"
   ]
  },
  {
   "cell_type": "code",
   "execution_count": 2,
   "metadata": {},
   "outputs": [
    {
     "ename": "ModuleNotFoundError",
     "evalue": "No module named 'webdriver_manager'",
     "output_type": "error",
     "traceback": [
      "\u001b[1;31m---------------------------------------------------------------------------\u001b[0m",
      "\u001b[1;31mModuleNotFoundError\u001b[0m                       Traceback (most recent call last)",
      "Cell \u001b[1;32mIn[2], line 10\u001b[0m\n\u001b[0;32m      8\u001b[0m \u001b[38;5;28;01mimport\u001b[39;00m \u001b[38;5;21;01mselenium\u001b[39;00m\u001b[38;5;21;01m.\u001b[39;00m\u001b[38;5;21;01mwebdriver\u001b[39;00m\u001b[38;5;21;01m.\u001b[39;00m\u001b[38;5;21;01msupport\u001b[39;00m\u001b[38;5;21;01m.\u001b[39;00m\u001b[38;5;21;01mui\u001b[39;00m \u001b[38;5;28;01mas\u001b[39;00m \u001b[38;5;21;01mui\u001b[39;00m\n\u001b[0;32m      9\u001b[0m \u001b[38;5;28;01mfrom\u001b[39;00m \u001b[38;5;21;01mselenium\u001b[39;00m\u001b[38;5;21;01m.\u001b[39;00m\u001b[38;5;21;01mwebdriver\u001b[39;00m\u001b[38;5;21;01m.\u001b[39;00m\u001b[38;5;21;01msupport\u001b[39;00m\u001b[38;5;21;01m.\u001b[39;00m\u001b[38;5;21;01mselect\u001b[39;00m \u001b[38;5;28;01mimport\u001b[39;00m Select\n\u001b[1;32m---> 10\u001b[0m \u001b[38;5;28;01mfrom\u001b[39;00m \u001b[38;5;21;01mwebdriver_manager\u001b[39;00m\u001b[38;5;21;01m.\u001b[39;00m\u001b[38;5;21;01mchrome\u001b[39;00m \u001b[38;5;28;01mimport\u001b[39;00m ChromeDriverManager\n\u001b[0;32m     11\u001b[0m \u001b[38;5;28;01mfrom\u001b[39;00m \u001b[38;5;21;01mselenium\u001b[39;00m\u001b[38;5;21;01m.\u001b[39;00m\u001b[38;5;21;01mwebdriver\u001b[39;00m\u001b[38;5;21;01m.\u001b[39;00m\u001b[38;5;21;01mchrome\u001b[39;00m\u001b[38;5;21;01m.\u001b[39;00m\u001b[38;5;21;01mservice\u001b[39;00m \u001b[38;5;28;01mimport\u001b[39;00m Service \u001b[38;5;28;01mas\u001b[39;00m ChromeService\n\u001b[0;32m     12\u001b[0m \u001b[38;5;28;01mfrom\u001b[39;00m \u001b[38;5;21;01mselenium\u001b[39;00m\u001b[38;5;21;01m.\u001b[39;00m\u001b[38;5;21;01mwebdriver\u001b[39;00m\u001b[38;5;21;01m.\u001b[39;00m\u001b[38;5;21;01mcommon\u001b[39;00m\u001b[38;5;21;01m.\u001b[39;00m\u001b[38;5;21;01mby\u001b[39;00m \u001b[38;5;28;01mimport\u001b[39;00m By\n",
      "\u001b[1;31mModuleNotFoundError\u001b[0m: No module named 'webdriver_manager'"
     ]
    }
   ],
   "source": [
    "\n",
    "## Import packages\n",
    "\n",
    "#from selenium import webdriver\n",
    "from selenium import webdriver\n",
    "from selenium.webdriver.chrome.service import Service\n",
    "import time\n",
    "from selenium.webdriver.common.keys import Keys\n",
    "import selenium.webdriver.support.ui as ui\n",
    "from selenium.webdriver.support.select import Select\n",
    "from webdriver_manager.chrome import ChromeDriverManager\n",
    "from selenium.webdriver.chrome.service import Service as ChromeService\n",
    "from selenium.webdriver.common.by import By\n",
    "import numpy as np\n",
    "import pandas as pd\n",
    "from selenium.common.exceptions import NoSuchElementException\n",
    "import itertools\n",
    "\n"
   ]
  },
  {
   "cell_type": "code",
   "execution_count": 3,
   "metadata": {},
   "outputs": [
    {
     "data": {
      "text/plain": [
       "'\\n_______________________________________________________________________________\\n_______________________________________________________________________________\\n'"
      ]
     },
     "execution_count": 3,
     "metadata": {},
     "output_type": "execute_result"
    }
   ],
   "source": [
    "\"\"\"\n",
    "_______________________________________________________________________________\n",
    "Launch chrome \n",
    "_______________________________________________________________________________\n",
    "\"\"\"\n",
    "url = 'https://portal.nysc.org.ng/nysc1/CheckInstitutionCoursesPCMs.aspx' \n",
    "chromedriver_path = r\"C:\\Users\\auuser\\Documents\\Munir\\Education and Conflict\\chromedriver_win32\\chromedriver.exe\"\n",
    "driver = webdriver.Chrome(service=Service(chromedriver_path))\n",
    "driver.get(url)\n",
    "wait = ui.WebDriverWait(driver, 10)\n",
    "\n",
    "\n",
    "\n",
    "\n",
    "\n",
    "\"\"\"\n",
    "_______________________________________________________________________________\n",
    "_______________________________________________________________________________\n",
    "\"\"\"\n"
   ]
  },
  {
   "cell_type": "code",
   "execution_count": 4,
   "metadata": {},
   "outputs": [
    {
     "data": {
      "text/plain": [
       "'\\n_______________________________________________________________________________\\n_______________________________________________________________________________\\n\\n'"
      ]
     },
     "execution_count": 4,
     "metadata": {},
     "output_type": "execute_result"
    }
   ],
   "source": [
    "\"\"\"\n",
    "_______________________________________________________________________________\n",
    "Get Batch and Institution\n",
    "_______________________________________________________________________________\n",
    "\"\"\"\n",
    "batch = Select(driver.find_element(By.ID, value = 'ctl00_ContentPlaceHolder1_cboBatch'))\n",
    "time.sleep(1)\n",
    "batchs = [option.text for option in batch.options]\n",
    "\n",
    "BATCH = []\n",
    "INSTITUTION = []\n",
    "\n",
    "for index, bat in enumerate(batchs):\n",
    "    option = wait.until(lambda driver: driver.find_element(By.ID, value = 'ctl00_ContentPlaceHolder1_cboBatch'))\n",
    "    \n",
    "    #get the institution \n",
    "    institution = Select(driver.find_element(By.ID, value = 'ctl00_ContentPlaceHolder1_cbo1stMostInstitutionType'))\n",
    "    time.sleep(1)\n",
    "    \n",
    "    inst = [option.text for option in institution.options]\n",
    "    \n",
    "    for index, ins in enumerate(inst):\n",
    "        BATCH.append(bat)\n",
    "        INSTITUTION.append(ins)\n",
    "\"\"\"\n",
    "_______________________________________________________________________________\n",
    "_______________________________________________________________________________\n",
    "\n",
    "\"\"\""
   ]
  },
  {
   "cell_type": "code",
   "execution_count": 5,
   "metadata": {},
   "outputs": [
    {
     "data": {
      "text/plain": [
       "'\\n_______________________________________________________________________________\\n_______________________________________________________________________________\\n'"
      ]
     },
     "execution_count": 5,
     "metadata": {},
     "output_type": "execute_result"
    }
   ],
   "source": [
    "\"\"\"\n",
    "_______________________________________________________________________________\n",
    "Remove select \n",
    "_______________________________________________________________________________\n",
    "\"\"\"\n",
    "BATCH = np.array(BATCH)\n",
    "INSTITUTION = np.array(INSTITUTION)\n",
    "INSTITUTION = INSTITUTION.reshape(len(BATCH), 1)\n",
    "BATCH = BATCH.reshape(len(BATCH), 1)\n",
    "\n",
    "opt = np.concatenate((BATCH, INSTITUTION), axis=1)\n",
    "opt = pd.DataFrame(opt, columns=(\"batch\", \"inst_type\")) \n",
    "\n",
    "opt = opt[opt.batch != \"Select...\"]\n",
    "opt = opt[opt.inst_type != \"Select...\"] \n",
    "new_batch = opt['batch'].tolist()\n",
    "new_inst = opt['inst_type'].tolist()\n",
    "\"\"\"\n",
    "_______________________________________________________________________________\n",
    "_______________________________________________________________________________\n",
    "\"\"\"\n"
   ]
  },
  {
   "cell_type": "code",
   "execution_count": 32,
   "metadata": {},
   "outputs": [
    {
     "ename": "KeyboardInterrupt",
     "evalue": "",
     "output_type": "error",
     "traceback": [
      "\u001b[1;31m---------------------------------------------------------------------------\u001b[0m",
      "\u001b[1;31mKeyboardInterrupt\u001b[0m                         Traceback (most recent call last)",
      "Cell \u001b[1;32mIn[32], line 21\u001b[0m\n\u001b[0;32m     19\u001b[0m uni \u001b[38;5;241m=\u001b[39m [option\u001b[38;5;241m.\u001b[39mtext \u001b[38;5;28;01mfor\u001b[39;00m option \u001b[38;5;129;01min\u001b[39;00m university\u001b[38;5;241m.\u001b[39moptions] \n\u001b[0;32m     20\u001b[0m \u001b[38;5;28;01mfor\u001b[39;00m index, un \u001b[38;5;129;01min\u001b[39;00m \u001b[38;5;28menumerate\u001b[39m(uni):\n\u001b[1;32m---> 21\u001b[0m     \u001b[43mtime\u001b[49m\u001b[38;5;241;43m.\u001b[39;49m\u001b[43msleep\u001b[49m\u001b[43m(\u001b[49m\u001b[38;5;241;43m1\u001b[39;49m\u001b[43m)\u001b[49m        \n\u001b[0;32m     22\u001b[0m     SCHOOL\u001b[38;5;241m.\u001b[39mappend(un)\n\u001b[0;32m     23\u001b[0m     BATCH\u001b[38;5;241m.\u001b[39mappend(b)\n",
      "\u001b[1;31mKeyboardInterrupt\u001b[0m: "
     ]
    }
   ],
   "source": [
    "\"\"\"\n",
    "_______________________________________________________________________________\n",
    "Get School names\n",
    "_______________________________________________________________________________\n",
    "\"\"\"\n",
    "\n",
    "BATCH = []\n",
    "INSTITUTION = [] \n",
    "SCHOOL = []\n",
    "for b, i in zip(new_batch, new_inst):\n",
    "    batch = Select(driver.find_element(By.ID, value = 'ctl00_ContentPlaceHolder1_cboBatch'))\n",
    "    batch.select_by_visible_text(\"{}\".format(b))  \n",
    "    driver.implicitly_wait(30)\n",
    "    institution = Select(driver.find_element(By.ID, value ='ctl00_ContentPlaceHolder1_cbo1stMostInstitutionType'))\n",
    "    institution.select_by_visible_text(\"{}\".format(i)) \n",
    "    driver.implicitly_wait(30)\n",
    "    university = Select(driver.find_element(By.ID, value = 'ctl00_ContentPlaceHolder1_cboFirstInstitution'))\n",
    "    driver.implicitly_wait(30)\n",
    "    uni = [option.text for option in university.options] \n",
    "    for index, un in enumerate(uni):\n",
    "        time.sleep(1)        \n",
    "        SCHOOL.append(un)\n",
    "        BATCH.append(b)\n",
    "        INSTITUTION.append(i)       \n",
    "  \n",
    "        \n",
    "\"\"\"\n",
    "_______________________________________________________________________________\n",
    "_______________________________________________________________________________\n",
    "\"\"\"\n",
    " \n"
   ]
  },
  {
   "cell_type": "code",
   "execution_count": 8,
   "metadata": {},
   "outputs": [
    {
     "data": {
      "text/plain": [
       "'\\n_______________________________________________________________________________\\n_______________________________________________________________________________\\n'"
      ]
     },
     "execution_count": 8,
     "metadata": {},
     "output_type": "execute_result"
    }
   ],
   "source": [
    "\"\"\"\n",
    "_______________________________________________________________________________\n",
    "Remove Select\n",
    "_______________________________________________________________________________\n",
    "\"\"\"\n",
    "\n",
    "BATCH2 = np.array(BATCH)\n",
    "INSTITUTION2 = np.array(INSTITUTION)\n",
    "SCHOOL2 = np.array(SCHOOL)\n",
    "\n",
    "INSTITUTION2 = INSTITUTION2.reshape(len(BATCH), 1)\n",
    "BATCH2 = BATCH2.reshape(len(BATCH), 1) \n",
    "SCHOOL2 = SCHOOL2.reshape(len(BATCH), 1)\n",
    "\n",
    "opt = np.concatenate((BATCH2, INSTITUTION2, SCHOOL2), axis=1)\n",
    "opt = pd.DataFrame(opt, columns=(\"batch\", \"inst_type\", \"school\")) \n",
    "\n",
    "opt = opt[opt.batch != \"Select...\"]\n",
    "opt = opt[opt.inst_type != \"Select...\"]\n",
    "opt =  opt[opt.school != \"Select...\"]\n",
    "\n",
    "new_batch2 = opt['batch'].tolist()\n",
    "new_inst2 = opt['inst_type'].tolist()\n",
    "new_school2 = opt['school'].tolist()\n",
    "\"\"\"\n",
    "_______________________________________________________________________________\n",
    "_______________________________________________________________________________\n",
    "\"\"\""
   ]
  },
  {
   "cell_type": "code",
   "execution_count": 39,
   "metadata": {},
   "outputs": [],
   "source": [
    "schols = pd.read_csv(\"schools.csv\")"
   ]
  },
  {
   "cell_type": "code",
   "execution_count": 40,
   "metadata": {},
   "outputs": [],
   "source": [
    "sch = []\n",
    "for i in schols.name:\n",
    "    sch.append(i)"
   ]
  },
  {
   "cell_type": "code",
   "execution_count": 96,
   "metadata": {
    "scrolled": true
   },
   "outputs": [
    {
     "data": {
      "text/plain": [
       "'\\n_______________________________________________________________________________\\n_______________________________________________________________________________\\n\\n'"
      ]
     },
     "execution_count": 96,
     "metadata": {},
     "output_type": "execute_result"
    }
   ],
   "source": [
    "\"\"\"\n",
    "_______________________________________________________________________________\n",
    "Get Courses\n",
    "_______________________________________________________________________________\n",
    "\"\"\"\n",
    "BATCH = []\n",
    "INSTITUTION = [] \n",
    "SCHOOL = []\n",
    "COURSES = []\n",
    "\n",
    "for b, i, s in zip(new_batch2[1071:], new_inst2[1071:], new_school2[1071:]):\n",
    "    if s in sch: \n",
    "        batch = Select(driver.find_element(By.ID, value = 'ctl00_ContentPlaceHolder1_cboBatch'))\n",
    "        batch.select_by_visible_text(\"{}\".format(b))  \n",
    "        driver.implicitly_wait(5)\n",
    "        institution = Select(driver.find_element(By.ID, value = 'ctl00_ContentPlaceHolder1_cbo1stMostInstitutionType'))\n",
    "        institution.select_by_visible_text(\"{}\".format(i)) \n",
    "        driver.implicitly_wait(5)\n",
    "        university = Select(driver.find_element(By.ID, value = 'ctl00_ContentPlaceHolder1_cboFirstInstitution'))\n",
    "        university.select_by_visible_text(\"{}\".format(s)) \n",
    "        driver.implicitly_wait(5)\n",
    "                \n",
    "        courses = Select(driver.find_element(by = By.ID, value = 'ctl00_ContentPlaceHolder1_cboCourses'))\n",
    "        # get courses    \n",
    "        course = [option.text for option in courses.options]  \n",
    "        for index, co in enumerate(course):\n",
    "            time.sleep(1)\n",
    "            COURSES.append(co)\n",
    "            SCHOOL.append(s)\n",
    "            BATCH.append(b)\n",
    "            INSTITUTION.append(i)\n",
    "    else:\n",
    "        pass\n",
    "            \n",
    "\"\"\"\n",
    "_______________________________________________________________________________\n",
    "_______________________________________________________________________________\n",
    "\n",
    "\"\"\"\n"
   ]
  },
  {
   "cell_type": "code",
   "execution_count": 97,
   "metadata": {},
   "outputs": [
    {
     "data": {
      "text/plain": [
       "'\\n_______________________________________________________________________________\\n_______________________________________________________________________________\\n'"
      ]
     },
     "execution_count": 97,
     "metadata": {},
     "output_type": "execute_result"
    }
   ],
   "source": [
    "\"\"\"\n",
    "_______________________________________________________________________________\n",
    "Remove Select\n",
    "_______________________________________________________________________________\n",
    "\n",
    "\n",
    "\"\"\"\n",
    "\n",
    "BATCH3 = np.array(BATCH)\n",
    "INSTITUTION3 = np.array(INSTITUTION)\n",
    "SCHOOL3 = np.array(SCHOOL)\n",
    "COURSES3 = np.array(COURSES)\n",
    "\n",
    "INSTITUTION3 = INSTITUTION3.reshape(len(BATCH), 1)\n",
    "BATCH3 = BATCH3.reshape(len(BATCH), 1)\n",
    "SCHOOL3 = SCHOOL3.reshape(len(BATCH), 1)\n",
    "COURSES3 = COURSES3.reshape(len(BATCH), 1)\n",
    "\n",
    "opt = np.concatenate((BATCH3, INSTITUTION3, SCHOOL3, COURSES3), axis=1)\n",
    "opt = pd.DataFrame(opt, columns=(\"batch\", \"inst_type\", \"school\", \"course\")) \n",
    "\n",
    "opt.to_csv(\"inc.csv\")\n",
    "\n",
    "opt = opt[opt.batch != \"Select...\"]\n",
    "opt = opt[opt.inst_type != \"Select...\"]\n",
    "opt =  opt[opt.school != \"Select...\"]\n",
    "opt = opt[opt.course != \"Select...\"]\n",
    "\n",
    "new_batch3 = opt['batch'].tolist()\n",
    "new_inst3 = opt['inst_type'].tolist()\n",
    "new_school3 = opt['school'].tolist()\n",
    "new_course3 = opt['course'].tolist()\n",
    "\n",
    "\n",
    "\n",
    "\n",
    "\"\"\"\n",
    "_______________________________________________________________________________\n",
    "_______________________________________________________________________________\n",
    "\"\"\"\n"
   ]
  },
  {
   "cell_type": "code",
   "execution_count": 205,
   "metadata": {
    "scrolled": true
   },
   "outputs": [
    {
     "name": "stdout",
     "output_type": "stream",
     "text": [
      "B, 2016 Ist Degree (University) Igbinedion University Pharmacy\n",
      "B, 2016 Ist Degree (University) Igbinedion University Physics\n",
      "B, 2016 Ist Degree (University) Igbinedion University Physiology\n",
      "B, 2016 Ist Degree (University) Igbinedion University Political Science & Public Administration\n",
      "B, 2016 Ist Degree (University) Igbinedion University Public Relations & Advertising\n",
      "B, 2016 Ist Degree (University) Igbinedion University Sociology & Anthropology\n",
      "B, 2016 Ist Degree (University) Igbinedion University Theatre Arts\n",
      "B, 2016 Ist Degree (University) Igbinedion University Zoology\n",
      "B, 2016 Ist Degree (University) Lagos State University Accounting\n",
      "B, 2016 Ist Degree (University) Lagos State University Aero and Astro Eng\n",
      "B, 2016 Ist Degree (University) Lagos State University Agriculture\n",
      "B, 2016 Ist Degree (University) Lagos State University Arabic Studies\n",
      "B, 2016 Ist Degree (University) Lagos State University Banking And Finance\n",
      "B, 2016 Ist Degree (University) Lagos State University Biochemistry\n",
      "B, 2016 Ist Degree (University) Lagos State University Botany\n",
      "B, 2016 Ist Degree (University) Lagos State University Business Administration\n",
      "B, 2016 Ist Degree (University) Lagos State University Business Education\n",
      "B, 2016 Ist Degree (University) Lagos State University Chemical & Polymer Engineering\n",
      "B, 2016 Ist Degree (University) Lagos State University Chemistry\n",
      "B, 2016 Ist Degree (University) Lagos State University Christian Religious Studies\n",
      "B, 2016 Ist Degree (University) Lagos State University Computer Science\n",
      "B, 2016 Ist Degree (University) Lagos State University Curriculum Studies\n",
      "B, 2016 Ist Degree (University) Lagos State University Dentistry\n",
      "B, 2016 Ist Degree (University) Lagos State University Early Childhood And Primary Education\n",
      "B, 2016 Ist Degree (University) Lagos State University Economics\n",
      "B, 2016 Ist Degree (University) Lagos State University Education /Mathematics\n",
      "B, 2016 Ist Degree (University) Lagos State University Education Foundation\n",
      "B, 2016 Ist Degree (University) Lagos State University Education/Accounting\n",
      "B, 2016 Ist Degree (University) Lagos State University Education/Arabic\n",
      "B, 2016 Ist Degree (University) Lagos State University Education/Biology\n",
      "B, 2016 Ist Degree (University) Lagos State University Education/Chemistry\n",
      "B, 2016 Ist Degree (University) Lagos State University Education/Christian Religious Studies\n",
      "B, 2016 Ist Degree (University) Lagos State University Education/Computer Science\n",
      "B, 2016 Ist Degree (University) Lagos State University Education/Economics\n",
      "B, 2016 Ist Degree (University) Lagos State University Education/English\n",
      "B, 2016 Ist Degree (University) Lagos State University Education/French\n",
      "B, 2016 Ist Degree (University) Lagos State University Education/Geography\n",
      "B, 2016 Ist Degree (University) Lagos State University Education/History\n",
      "B, 2016 Ist Degree (University) Lagos State University Education/Islamic Religious Studies\n",
      "B, 2016 Ist Degree (University) Lagos State University Education/Physics\n",
      "B, 2016 Ist Degree (University) Lagos State University Education/Political Science\n",
      "B, 2016 Ist Degree (University) Lagos State University Education/Yoruba\n",
      "B, 2016 Ist Degree (University) Lagos State University Educational Management\n",
      "B, 2016 Ist Degree (University) Lagos State University Educational Technology\n",
      "B, 2016 Ist Degree (University) Lagos State University Electronics & Computer Engineering\n",
      "B, 2016 Ist Degree (University) Lagos State University English Language\n",
      "B, 2016 Ist Degree (University) Lagos State University Fishery\n",
      "B, 2016 Ist Degree (University) Lagos State University French\n",
      "B, 2016 Ist Degree (University) Lagos State University Geography & Planning\n",
      "B, 2016 Ist Degree (University) Lagos State University Guidance and Counselling\n",
      "B, 2016 Ist Degree (University) Lagos State University Health Education\n",
      "B, 2016 Ist Degree (University) Lagos State University History And International Studies\n",
      "B, 2016 Ist Degree (University) Lagos State University Industrial Relations & Personnel Management\n",
      "B, 2016 Ist Degree (University) Lagos State University Insurance\n",
      "B, 2016 Ist Degree (University) Lagos State University Islamic Studies\n",
      "B, 2016 Ist Degree (University) Lagos State University Law/Common & Islamic Law\n",
      "B, 2016 Ist Degree (University) Lagos State University Local Government & Development Studies\n",
      "B, 2016 Ist Degree (University) Lagos State University Management Technology\n",
      "B, 2016 Ist Degree (University) Lagos State University Marketing\n",
      "B, 2016 Ist Degree (University) Lagos State University Mass Communication\n",
      "B, 2016 Ist Degree (University) Lagos State University Mathematics\n",
      "B, 2016 Ist Degree (University) Lagos State University Mechanical Engineering\n",
      "B, 2016 Ist Degree (University) Lagos State University Medicine\n",
      "B, 2016 Ist Degree (University) Lagos State University Microbiology\n",
      "B, 2016 Ist Degree (University) Lagos State University Music\n",
      "B, 2016 Ist Degree (University) Lagos State University Nursing Science\n",
      "B, 2016 Ist Degree (University) Lagos State University Peace Studies\n",
      "B, 2016 Ist Degree (University) Lagos State University Pharmacology\n",
      "B, 2016 Ist Degree (University) Lagos State University Philosophy\n",
      "B, 2016 Ist Degree (University) Lagos State University Physical And Health Education\n",
      "B, 2016 Ist Degree (University) Lagos State University Physics\n",
      "B, 2016 Ist Degree (University) Lagos State University Physiology\n",
      "B, 2016 Ist Degree (University) Lagos State University Political Science\n",
      "B, 2016 Ist Degree (University) Lagos State University Portuguese/English (combined)\n",
      "B, 2016 Ist Degree (University) Lagos State University Psychology\n",
      "B, 2016 Ist Degree (University) Lagos State University Public Administration\n",
      "B, 2016 Ist Degree (University) Lagos State University Sociology\n",
      "B, 2016 Ist Degree (University) Lagos State University Theatre Arts\n",
      "B, 2016 Ist Degree (University) Lagos State University Transport/Management\n",
      "B, 2016 Ist Degree (University) Lagos State University Yoruba\n",
      "B, 2016 Ist Degree (University) Lagos State University Zoology\n"
     ]
    }
   ],
   "source": [
    "for b, i, s, co in zip(new_batch3[1237:1318], new_inst3[1237:1318], new_school3[1237:1318], new_course3[1237:1318]):\n",
    "    print(b,i,s,co)\n",
    "        "
   ]
  },
  {
   "cell_type": "code",
   "execution_count": 5,
   "metadata": {},
   "outputs": [],
   "source": [
    "full = pd.read_csv('inc.csv')"
   ]
  },
  {
   "cell_type": "code",
   "execution_count": 6,
   "metadata": {},
   "outputs": [
    {
     "ename": "NoSuchElementException",
     "evalue": "Message: no such element: Unable to locate element: {\"method\":\"css selector\",\"selector\":\"[id=\"ctl00_ContentPlaceHolder1_cboBatch\"]\"}\n  (Session info: chrome=128.0.6559.0); For documentation on this error, please visit: https://www.selenium.dev/documentation/webdriver/troubleshooting/errors#no-such-element-exception\nStacktrace:\n\tGetHandleVerifier [0x00007FF776D77252+31714]\n\t(No symbol) [0x00007FF776D2E069]\n\t(No symbol) [0x00007FF776C2863A]\n\t(No symbol) [0x00007FF776C7975C]\n\t(No symbol) [0x00007FF776C79A3C]\n\t(No symbol) [0x00007FF776CBF1E7]\n\t(No symbol) [0x00007FF776C9E03F]\n\t(No symbol) [0x00007FF776CBC57A]\n\t(No symbol) [0x00007FF776C9DDA3]\n\t(No symbol) [0x00007FF776C6BC0C]\n\t(No symbol) [0x00007FF776C6C541]\n\tGetHandleVerifier [0x00007FF776EB3EBD+1329229]\n\tGetHandleVerifier [0x00007FF776EBEE37+1374151]\n\tGetHandleVerifier [0x00007FF776EB5D53+1337059]\n\tGetHandleVerifier [0x00007FF776DB1396+269606]\n\t(No symbol) [0x00007FF776D3706F]\n\t(No symbol) [0x00007FF776D33434]\n\t(No symbol) [0x00007FF776D335C2]\n\t(No symbol) [0x00007FF776D2A48F]\n\tBaseThreadInitThunk [0x00007FFE4CC454E0+16]\n\tRtlUserThreadStart [0x00007FFE4D5A485B+43]\n",
     "output_type": "error",
     "traceback": [
      "\u001b[1;31m---------------------------------------------------------------------------\u001b[0m",
      "\u001b[1;31mNoSuchElementException\u001b[0m                    Traceback (most recent call last)",
      "Cell \u001b[1;32mIn[6], line 28\u001b[0m\n\u001b[0;32m     23\u001b[0m         COURSE[\u001b[38;5;124mf\u001b[39m\u001b[38;5;124m\"\u001b[39m\u001b[38;5;132;01m{\u001b[39;00mco\u001b[38;5;132;01m}\u001b[39;00m\u001b[38;5;124m_\u001b[39m\u001b[38;5;132;01m{\u001b[39;00mb\u001b[38;5;132;01m}\u001b[39;00m\u001b[38;5;124m\"\u001b[39m] \u001b[38;5;241m=\u001b[39m []\n\u001b[0;32m     27\u001b[0m \u001b[38;5;28;01mfor\u001b[39;00m b, p, s, co \u001b[38;5;129;01min\u001b[39;00m \u001b[38;5;28mzip\u001b[39m(full[\u001b[38;5;124m\"\u001b[39m\u001b[38;5;124mbatch\u001b[39m\u001b[38;5;124m\"\u001b[39m][\u001b[38;5;241m10578\u001b[39m:\u001b[38;5;241m11114\u001b[39m], full[\u001b[38;5;124m\"\u001b[39m\u001b[38;5;124minst_type\u001b[39m\u001b[38;5;124m\"\u001b[39m][\u001b[38;5;241m10578\u001b[39m:\u001b[38;5;241m11114\u001b[39m], full[\u001b[38;5;124m\"\u001b[39m\u001b[38;5;124mschool\u001b[39m\u001b[38;5;124m\"\u001b[39m][\u001b[38;5;241m10578\u001b[39m:\u001b[38;5;241m11114\u001b[39m], full[\u001b[38;5;124m\"\u001b[39m\u001b[38;5;124mcourse\u001b[39m\u001b[38;5;124m\"\u001b[39m][\u001b[38;5;241m10578\u001b[39m:\u001b[38;5;241m11114\u001b[39m]):\n\u001b[1;32m---> 28\u001b[0m     batch \u001b[38;5;241m=\u001b[39m Select(\u001b[43mdriver\u001b[49m\u001b[38;5;241;43m.\u001b[39;49m\u001b[43mfind_element\u001b[49m\u001b[43m(\u001b[49m\u001b[43mBy\u001b[49m\u001b[38;5;241;43m.\u001b[39;49m\u001b[43mID\u001b[49m\u001b[43m,\u001b[49m\u001b[43m \u001b[49m\u001b[43mvalue\u001b[49m\u001b[43m \u001b[49m\u001b[38;5;241;43m=\u001b[39;49m\u001b[43m \u001b[49m\u001b[38;5;124;43m'\u001b[39;49m\u001b[38;5;124;43mctl00_ContentPlaceHolder1_cboBatch\u001b[39;49m\u001b[38;5;124;43m'\u001b[39;49m\u001b[43m)\u001b[49m)\n\u001b[0;32m     29\u001b[0m     batch\u001b[38;5;241m.\u001b[39mselect_by_visible_text(\u001b[38;5;124m\"\u001b[39m\u001b[38;5;132;01m{}\u001b[39;00m\u001b[38;5;124m\"\u001b[39m\u001b[38;5;241m.\u001b[39mformat(b))  \n\u001b[0;32m     30\u001b[0m     driver\u001b[38;5;241m.\u001b[39mimplicitly_wait(\u001b[38;5;241m8\u001b[39m)\n",
      "File \u001b[1;32m~\\AppData\\Local\\Programs\\Python\\Python312\\Lib\\site-packages\\selenium\\webdriver\\remote\\webdriver.py:741\u001b[0m, in \u001b[0;36mWebDriver.find_element\u001b[1;34m(self, by, value)\u001b[0m\n\u001b[0;32m    738\u001b[0m     by \u001b[38;5;241m=\u001b[39m By\u001b[38;5;241m.\u001b[39mCSS_SELECTOR\n\u001b[0;32m    739\u001b[0m     value \u001b[38;5;241m=\u001b[39m \u001b[38;5;124mf\u001b[39m\u001b[38;5;124m'\u001b[39m\u001b[38;5;124m[name=\u001b[39m\u001b[38;5;124m\"\u001b[39m\u001b[38;5;132;01m{\u001b[39;00mvalue\u001b[38;5;132;01m}\u001b[39;00m\u001b[38;5;124m\"\u001b[39m\u001b[38;5;124m]\u001b[39m\u001b[38;5;124m'\u001b[39m\n\u001b[1;32m--> 741\u001b[0m \u001b[38;5;28;01mreturn\u001b[39;00m \u001b[38;5;28;43mself\u001b[39;49m\u001b[38;5;241;43m.\u001b[39;49m\u001b[43mexecute\u001b[49m\u001b[43m(\u001b[49m\u001b[43mCommand\u001b[49m\u001b[38;5;241;43m.\u001b[39;49m\u001b[43mFIND_ELEMENT\u001b[49m\u001b[43m,\u001b[49m\u001b[43m \u001b[49m\u001b[43m{\u001b[49m\u001b[38;5;124;43m\"\u001b[39;49m\u001b[38;5;124;43musing\u001b[39;49m\u001b[38;5;124;43m\"\u001b[39;49m\u001b[43m:\u001b[49m\u001b[43m \u001b[49m\u001b[43mby\u001b[49m\u001b[43m,\u001b[49m\u001b[43m \u001b[49m\u001b[38;5;124;43m\"\u001b[39;49m\u001b[38;5;124;43mvalue\u001b[39;49m\u001b[38;5;124;43m\"\u001b[39;49m\u001b[43m:\u001b[49m\u001b[43m \u001b[49m\u001b[43mvalue\u001b[49m\u001b[43m}\u001b[49m\u001b[43m)\u001b[49m[\u001b[38;5;124m\"\u001b[39m\u001b[38;5;124mvalue\u001b[39m\u001b[38;5;124m\"\u001b[39m]\n",
      "File \u001b[1;32m~\\AppData\\Local\\Programs\\Python\\Python312\\Lib\\site-packages\\selenium\\webdriver\\remote\\webdriver.py:347\u001b[0m, in \u001b[0;36mWebDriver.execute\u001b[1;34m(self, driver_command, params)\u001b[0m\n\u001b[0;32m    345\u001b[0m response \u001b[38;5;241m=\u001b[39m \u001b[38;5;28mself\u001b[39m\u001b[38;5;241m.\u001b[39mcommand_executor\u001b[38;5;241m.\u001b[39mexecute(driver_command, params)\n\u001b[0;32m    346\u001b[0m \u001b[38;5;28;01mif\u001b[39;00m response:\n\u001b[1;32m--> 347\u001b[0m     \u001b[38;5;28;43mself\u001b[39;49m\u001b[38;5;241;43m.\u001b[39;49m\u001b[43merror_handler\u001b[49m\u001b[38;5;241;43m.\u001b[39;49m\u001b[43mcheck_response\u001b[49m\u001b[43m(\u001b[49m\u001b[43mresponse\u001b[49m\u001b[43m)\u001b[49m\n\u001b[0;32m    348\u001b[0m     response[\u001b[38;5;124m\"\u001b[39m\u001b[38;5;124mvalue\u001b[39m\u001b[38;5;124m\"\u001b[39m] \u001b[38;5;241m=\u001b[39m \u001b[38;5;28mself\u001b[39m\u001b[38;5;241m.\u001b[39m_unwrap_value(response\u001b[38;5;241m.\u001b[39mget(\u001b[38;5;124m\"\u001b[39m\u001b[38;5;124mvalue\u001b[39m\u001b[38;5;124m\"\u001b[39m, \u001b[38;5;28;01mNone\u001b[39;00m))\n\u001b[0;32m    349\u001b[0m     \u001b[38;5;28;01mreturn\u001b[39;00m response\n",
      "File \u001b[1;32m~\\AppData\\Local\\Programs\\Python\\Python312\\Lib\\site-packages\\selenium\\webdriver\\remote\\errorhandler.py:229\u001b[0m, in \u001b[0;36mErrorHandler.check_response\u001b[1;34m(self, response)\u001b[0m\n\u001b[0;32m    227\u001b[0m         alert_text \u001b[38;5;241m=\u001b[39m value[\u001b[38;5;124m\"\u001b[39m\u001b[38;5;124malert\u001b[39m\u001b[38;5;124m\"\u001b[39m]\u001b[38;5;241m.\u001b[39mget(\u001b[38;5;124m\"\u001b[39m\u001b[38;5;124mtext\u001b[39m\u001b[38;5;124m\"\u001b[39m)\n\u001b[0;32m    228\u001b[0m     \u001b[38;5;28;01mraise\u001b[39;00m exception_class(message, screen, stacktrace, alert_text)  \u001b[38;5;66;03m# type: ignore[call-arg]  # mypy is not smart enough here\u001b[39;00m\n\u001b[1;32m--> 229\u001b[0m \u001b[38;5;28;01mraise\u001b[39;00m exception_class(message, screen, stacktrace)\n",
      "\u001b[1;31mNoSuchElementException\u001b[0m: Message: no such element: Unable to locate element: {\"method\":\"css selector\",\"selector\":\"[id=\"ctl00_ContentPlaceHolder1_cboBatch\"]\"}\n  (Session info: chrome=128.0.6559.0); For documentation on this error, please visit: https://www.selenium.dev/documentation/webdriver/troubleshooting/errors#no-such-element-exception\nStacktrace:\n\tGetHandleVerifier [0x00007FF776D77252+31714]\n\t(No symbol) [0x00007FF776D2E069]\n\t(No symbol) [0x00007FF776C2863A]\n\t(No symbol) [0x00007FF776C7975C]\n\t(No symbol) [0x00007FF776C79A3C]\n\t(No symbol) [0x00007FF776CBF1E7]\n\t(No symbol) [0x00007FF776C9E03F]\n\t(No symbol) [0x00007FF776CBC57A]\n\t(No symbol) [0x00007FF776C9DDA3]\n\t(No symbol) [0x00007FF776C6BC0C]\n\t(No symbol) [0x00007FF776C6C541]\n\tGetHandleVerifier [0x00007FF776EB3EBD+1329229]\n\tGetHandleVerifier [0x00007FF776EBEE37+1374151]\n\tGetHandleVerifier [0x00007FF776EB5D53+1337059]\n\tGetHandleVerifier [0x00007FF776DB1396+269606]\n\t(No symbol) [0x00007FF776D3706F]\n\t(No symbol) [0x00007FF776D33434]\n\t(No symbol) [0x00007FF776D335C2]\n\t(No symbol) [0x00007FF776D2A48F]\n\tBaseThreadInitThunk [0x00007FFE4CC454E0+16]\n\tRtlUserThreadStart [0x00007FFE4D5A485B+43]\n"
     ]
    }
   ],
   "source": [
    "\n",
    "\"\"\"\n",
    "_______________________________________________________________________________\n",
    "Get all data \n",
    "_______________________________________________________________________________\n",
    "\"\"\"\n",
    "\n",
    "sno = []\n",
    "surname = []\n",
    "onames = []\n",
    "gender = []\n",
    "course = []\n",
    "status = []\n",
    "BATCH = {}\n",
    "INSTITUTION = {} \n",
    "SCHOOL = {}\n",
    "COURSE = {}\n",
    "\n",
    "\n",
    "for b, i, s, co in zip(full[\"batch\"][10578:11114], full[\"inst_type\"][10578:11114], full[\"school\"][10578:11114], full[\"course\"][10578:11114]):\n",
    "        BATCH[\"{}\".format(b)] = []\n",
    "        INSTITUTION[f\"{i}_{b}\"] = []\n",
    "        SCHOOL[f\"{s}_{b}\"] = []\n",
    "        COURSE[f\"{co}_{b}\"] = []\n",
    "        \n",
    "        \n",
    "\n",
    "for b, p, s, co in zip(full[\"batch\"][10578:11114], full[\"inst_type\"][10578:11114], full[\"school\"][10578:11114], full[\"course\"][10578:11114]):\n",
    "    batch = Select(driver.find_element(By.ID, value = 'ctl00_ContentPlaceHolder1_cboBatch'))\n",
    "    batch.select_by_visible_text(\"{}\".format(b))  \n",
    "    driver.implicitly_wait(8)\n",
    "    institution = Select(driver.find_element(By.ID, value ='ctl00_ContentPlaceHolder1_cbo1stMostInstitutionType'))\n",
    "    institution.select_by_visible_text(\"{}\".format(p)) \n",
    "    driver.implicitly_wait(8)\n",
    "    university = Select(driver.find_element(By.ID, value = 'ctl00_ContentPlaceHolder1_cboFirstInstitution'))\n",
    "    university.select_by_visible_text(\"{}\".format(s)) \n",
    "    driver.implicitly_wait(8)\n",
    "    courses = Select(driver.find_element(by = By.ID, value = 'ctl00_ContentPlaceHolder1_cboCourses'))\n",
    "    courses.select_by_visible_text(\"{}\".format(co))\n",
    "    driver.implicitly_wait(8)\n",
    "    btn = driver.find_element(by = By.ID, value = 'ctl00_ContentPlaceHolder1_btnExtract')\n",
    "    btn.click()\n",
    "    \n",
    "    try:\n",
    "        show = Select(driver.find_element(by = By.NAME, value = 'GdvPCMCourses_length'))\n",
    "        show.select_by_value('100')\n",
    "        driver.implicitly_wait(8)\n",
    "    except NoSuchElementException as e:\n",
    "        pass\n",
    "        #print('Tag was not found, try another combination')\n",
    " \n",
    "    try:\n",
    "        div = driver.find_element(By.ID, \"GdvPCMCourses_paginate\")  \n",
    "        a = div.find_elements(By.TAG_NAME, \"a\")\n",
    "    \n",
    "    \n",
    "        keep_running = True\n",
    "        for i in a[1:-1]:\n",
    "            cols = driver.find_elements(by = By.XPATH, value = \"//table/tbody/tr/td[1]\")\n",
    "            col1 = driver.find_elements(by = By.XPATH, value = \"//table/tbody/tr/td[2]\")\n",
    "            col2 = driver.find_elements(by = By.XPATH, value = \"//table/tbody/tr/td[3]\")\n",
    "            col3 = driver.find_elements(by = By.XPATH, value = \"//table/tbody/tr/td[4]\")\n",
    "            col4 = driver.find_elements(by = By.XPATH, value = \"//table/tbody/tr/td[5]\")\n",
    "            col5 = driver.find_elements(by = By.XPATH, value = \"//table/tbody/tr/td[6]\")\n",
    "\n",
    "            sno.append([s.text for s in cols]) \n",
    "            surname.append([s.text for s in col1])\n",
    "            onames.append([s.text for s in col2])\n",
    "            gender.append([s.text for s in col3])\n",
    "            course.append([s.text for s in col4])\n",
    "            status.append([s.text for s in col5])\n",
    "            \n",
    "            BATCH[\"{}\".format(b)].append([s.text for s in cols])\n",
    "            SCHOOL[f\"{s}_{b}\"].append([s.text for s in cols])\n",
    "            #SCHOOL[f\"{s}\"].append([s.text for s in cols])\n",
    "            INSTITUTION[f\"{p}_{b}\"].append([s.text for s in cols])\n",
    "            #INSTITUTION[f\"{p}\"].append([s.text for s in cols])\n",
    "            \n",
    "            \n",
    "            driver.find_element(By.LINK_TEXT, \"Next\").click()\n",
    "            driver.implicitly_wait(8)\n",
    "    except:\n",
    "        pass\n",
    "        \n"
   ]
  },
  {
   "cell_type": "code",
   "execution_count": 13,
   "metadata": {},
   "outputs": [
    {
     "data": {
      "text/plain": [
       "'\\n______________________________________________________________________________________\\n______________________________________________________________________________________\\n'"
      ]
     },
     "execution_count": 13,
     "metadata": {},
     "output_type": "execute_result"
    }
   ],
   "source": [
    "\"\"\"\n",
    "____________________________________________________________________________\n",
    "\n",
    "transform into dataframe\n",
    "____________________________________________________________________________\n",
    "\"\"\"\n",
    "\n",
    "sno = [element for sub in sno for element in sub]\n",
    "surname = [element for sub in surname for element in sub] \n",
    "onames = [element for sub in onames for element in sub] \n",
    "gender = [element for sub in gender for element in sub]\n",
    "course= [element for sub in course for element in sub]\n",
    "status= [element for sub in status for element in sub]    \n",
    "\n",
    "sno = np.array(sno)\n",
    "surname = np.array(surname)\n",
    "onames = np.array(onames)\n",
    "gender = np.array(gender)\n",
    "course = np.array(course)\n",
    "status = np.array(status)\n",
    "\n",
    "sno = sno.reshape(len(sno), 1)\n",
    "surname = surname.reshape(len(surname), 1)\n",
    "onames = onames.reshape(len(onames), 1)\n",
    "gender = gender.reshape(len(gender), 1)\n",
    "course = course.reshape(len(course), 1)\n",
    "status = status.reshape(len(status), 1)\n",
    "\n",
    "\n",
    "BATCH2 = []\n",
    "\n",
    "INSTITUTION2 = [] \n",
    "SCHOOL2 = []\n",
    "\n",
    "    \n",
    "for i in BATCH:\n",
    "    BATCH['{}'.format(i)] = [element for sub in BATCH['{}'.format(i)] for element in sub]\n",
    "\n",
    "for i in SCHOOL:\n",
    "    SCHOOL['{}'.format(i)] = [element for sub in SCHOOL['{}'.format(i)] for element in sub]\n",
    "\n",
    "for i in INSTITUTION:\n",
    "    INSTITUTION['{}'.format(i)] = [element for sub in INSTITUTION['{}'.format(i)] for element in sub]\n",
    "\n",
    "\n",
    "for b in BATCH:\n",
    "    BATCH2.append(np.repeat(b, len(BATCH[\"{}\".format(b)])))\n",
    "    \n",
    "for b in INSTITUTION:\n",
    "    INSTITUTION2.append(np.repeat(b, len(INSTITUTION[\"{}\".format(b)])))\n",
    "    \n",
    "for b in SCHOOL:\n",
    "    SCHOOL2.append(np.repeat(b, len(SCHOOL[\"{}\".format(b)])))\n",
    "    \n",
    "    \n",
    "INSTITUTION = [element for sub in INSTITUTION2 for element in sub]\n",
    "BATCH = [element for sub in BATCH2 for element in sub]\n",
    "SCHOOL = [element for sub in SCHOOL2 for element in sub]\n",
    "\n",
    "\n",
    "INSTITUTION = np.array(INSTITUTION)\n",
    "BATCH = np.array(BATCH)\n",
    "SCHOOL = np.array(SCHOOL)\n",
    "\n",
    "\n",
    "INSTITUTION = INSTITUTION.reshape(len(INSTITUTION), 1)\n",
    "BATCH = BATCH.reshape(len(BATCH), 1)\n",
    "SCHOOL = SCHOOL.reshape(len(SCHOOL), 1)\n",
    "\n",
    "\n",
    "\n",
    "data = np.concatenate((sno,BATCH, INSTITUTION, SCHOOL, surname, onames, gender, course, status), axis = 1 )\n",
    "df = pd.DataFrame(data, columns=(\"sno\", \"batch\", \"programme\", \"institution\", \"surname\", \"onames\", \"gender\", \"course\", \"status\"))\n",
    "\n",
    "\n",
    "\n",
    "\n",
    "\"\"\"\n",
    "______________________________________________________________________________________\n",
    "______________________________________________________________________________________\n",
    "\"\"\""
   ]
  },
  {
   "cell_type": "code",
   "execution_count": 14,
   "metadata": {},
   "outputs": [],
   "source": [
    "df.to_csv(\"nysc26.csv\")"
   ]
  },
  {
   "cell_type": "markdown",
   "metadata": {},
   "source": [
    "***"
   ]
  },
  {
   "cell_type": "code",
   "execution_count": null,
   "metadata": {},
   "outputs": [],
   "source": []
  },
  {
   "cell_type": "code",
   "execution_count": null,
   "metadata": {},
   "outputs": [],
   "source": []
  }
 ],
 "metadata": {
  "kernelspec": {
   "display_name": "Python 3 (ipykernel)",
   "language": "python",
   "name": "python3"
  },
  "language_info": {
   "codemirror_mode": {
    "name": "ipython",
    "version": 3
   },
   "file_extension": ".py",
   "mimetype": "text/x-python",
   "name": "python",
   "nbconvert_exporter": "python",
   "pygments_lexer": "ipython3",
   "version": "3.12.6"
  }
 },
 "nbformat": 4,
 "nbformat_minor": 4
}
